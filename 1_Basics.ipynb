{
 "cells": [
  {
   "cell_type": "markdown",
   "metadata": {},
   "source": [
    "Deep Graph Library (DGL)\n",
    "=====================\n",
    "\n",
    "DGL is designed to bring machine learning closer to graph-structured data. Specifically DGL enables trouble-free implementation of graph neural network (GNN) model family. Unlike PyTorch or TensorFlow, DGL provides friendly APIs to perform the fundamental operations in GNNs such as message passing and reduction. Through DGL, we hope to benefit both researchers trying out new ideas and engineers in production.\n",
    "\n",
    "In this tutorial, we demonstrate the basics of DGL including:\n",
    "- How to create a graph?\n",
    "- How to manipulate node/edge features on a graph?\n",
    "- How to convert a graph to/from other formats?\n",
    "\n",
    "Although this tutorial uses [PyTorch](https://pytorch.org) as backend for tensor-related computations (thus some familiarity with PyTorch is preferred), DGL is designed to be platform-agnostic and can be seamlessly integrated into other frameworks like [MXNet](https://mxnet.apache.org/) and [TensorFlow](https://www.tensorflow.org/), and we are actively working on this."
   ]
  },
  {
   "cell_type": "code",
   "execution_count": 1,
   "metadata": {},
   "outputs": [],
   "source": [
    "# A bit of setup, just ignore this cell\n",
    "import matplotlib.pyplot as plt\n",
    "\n",
    "# for auto-reloading external modules\n",
    "%load_ext autoreload\n",
    "%autoreload 2\n",
    "\n",
    "%matplotlib inline\n",
    "plt.rcParams['figure.figsize'] = (8.0, 6.0) # set default size of plots\n",
    "plt.rcParams['image.interpolation'] = 'nearest'\n",
    "plt.rcParams['image.cmap'] = 'gray'\n",
    "plt.rcParams['animation.html'] = 'html5'"
   ]
  },
  {
   "cell_type": "markdown",
   "metadata": {},
   "source": [
    "We start by creating the well-known *\"Zachary's karate club\"* social network. The network captures 34 members of a karate club, documenting pairwise links between members who interacted outside the club. The club later splits into two communities led by the instructor (node 0) and club president (node 33). You could read more about the story in the [wiki page](https://en.wikipedia.org/wiki/Zachary%27s_karate_club) A visualization of the network and the community is as follows:\n",
    "\n",
    "![karate](https://www.dropbox.com/s/uqzor4lqsmbnz8k/karate1.jpg?dl=1)"
   ]
  },
  {
   "cell_type": "markdown",
   "metadata": {},
   "source": [
    "Creating a graph\n",
    "-----------------------------------\n",
    "\n",
    "Let's see how we can create such a graph in DGL. We start with importing `dgl` and other relevant packages."
   ]
  },
  {
   "cell_type": "code",
   "execution_count": 2,
   "metadata": {},
   "outputs": [],
   "source": [
    "import dgl"
   ]
  },
  {
   "cell_type": "markdown",
   "metadata": {},
   "source": [
    "We first create an empty `DGLGraph`. In DGL, nodes are consecutive integers start from 0. The following codes add all the club members into this graph (34 nodes)."
   ]
  },
  {
   "cell_type": "code",
   "execution_count": 3,
   "metadata": {},
   "outputs": [
    {
     "name": "stdout",
     "output_type": "stream",
     "text": [
      "Number of nodes: 34\n"
     ]
    }
   ],
   "source": [
    "G = dgl.DGLGraph()\n",
    "G.add_nodes(34)\n",
    "print('Number of nodes:', G.number_of_nodes())"
   ]
  },
  {
   "cell_type": "markdown",
   "metadata": {},
   "source": [
    "The Karate Club network contains 78 edges:\n",
    "```\n",
    "[1 0]\n",
    "[2 0] [2 1]\n",
    "[3 0] [3 1] [3 2]\n",
    "[4 0]\n",
    "[5 0]\n",
    "[6 0] [6 4] [6 5]\n",
    "[7 0] [7 1] [7 2] [7 3]\n",
    "[8 0] [8 2]\n",
    "[9 2]\n",
    "[10 0] [10 4] [10 5]\n",
    "[11 0]\n",
    "[12 0] [12 3]\n",
    "[13 0] [13 1] [13 2] [13 3]\n",
    "[16 5] [16 6]\n",
    "[17 0] [17 1]\n",
    "[19 0] [19 1]\n",
    "[21 0] [21 1]\n",
    "[25 23] [25 24]\n",
    "[27 2] [27 23] [27 24]\n",
    "[28 2]\n",
    "[29 23] [29 26]\n",
    "[30 1] [30 8]\n",
    "[31 0] [31 24] [31 25] [31 28]\n",
    "[32 2] [32 8] [32 14] [32 15] [32 18] [32 20] [32 22] [32 23] [32 29] [32 30] [32 31]\n",
    "[33 8] [33 9] [33 13] [33 14] [33 15] [33 18] [33 19] [33 20] [33 22] [33 23] [33 26] [33 27] [33 28] [33 29] [33 30] [33 31] [33 32]\n",
    "```"
   ]
  },
  {
   "cell_type": "markdown",
   "metadata": {},
   "source": [
    "In DGL, edges can be added by specifying the two endpoints."
   ]
  },
  {
   "cell_type": "code",
   "execution_count": 4,
   "metadata": {},
   "outputs": [
    {
     "name": "stdout",
     "output_type": "stream",
     "text": [
      "Now we have 1 edges!\n"
     ]
    }
   ],
   "source": [
    "G.add_edge(1, 0)\n",
    "print('Now we have %d edges!' % G.number_of_edges())"
   ]
  },
  {
   "cell_type": "markdown",
   "metadata": {},
   "source": [
    "To add multiple edges at once, use a list/tensor of nodes to specify the endpoints."
   ]
  },
  {
   "cell_type": "code",
   "execution_count": 5,
   "metadata": {},
   "outputs": [
    {
     "name": "stdout",
     "output_type": "stream",
     "text": [
      "Now we have 6 edges!\n"
     ]
    }
   ],
   "source": [
    "import torch\n",
    "\n",
    "########\n",
    "# NOTE: in DGL, edges are added by specifying a list of source nodes and a list of destination nodes,\n",
    "# rather than a list of source-destination node pairs. This is different from other popular graph\n",
    "# package such as networkx, python-igraph.\n",
    "\n",
    "########\n",
    "# NOTE: edges in DGLGraphs are all directional.\n",
    "\n",
    "# add two edges 2->0 and 2->1 using list\n",
    "G.add_edges([2, 2], [0, 1])\n",
    "\n",
    "# add three edges 3->0, 3->1 and 3->2 using torch tensor\n",
    "src = torch.tensor([3, 3, 3])\n",
    "dst = torch.tensor([0, 1, 2])\n",
    "G.add_edges(src, dst)\n",
    "\n",
    "print('Now we have %d edges!' % G.number_of_edges())"
   ]
  },
  {
   "cell_type": "code",
   "execution_count": 6,
   "metadata": {},
   "outputs": [
    {
     "name": "stdout",
     "output_type": "stream",
     "text": [
      "Now we have 11 edges!\n"
     ]
    }
   ],
   "source": [
    "# add two edges 4->0, 5->0 using list\n",
    "G.add_edges([4, 5], 0)\n",
    "\n",
    "# add three edges 6->0 6->4 6->5 using torch tensor\n",
    "G.add_edges(6, torch.tensor([0, 4, 5]))\n",
    "\n",
    "print('Now we have %d edges!' % G.number_of_edges())"
   ]
  },
  {
   "cell_type": "markdown",
   "metadata": {},
   "source": [
    "If the edges share the same source or destination nodes, the list/tensor type can be replaced with a single integer."
   ]
  },
  {
   "cell_type": "code",
   "execution_count": 8,
   "metadata": {},
   "outputs": [
    {
     "name": "stdout",
     "output_type": "stream",
     "text": [
      "Now we have 78 edges!\n"
     ]
    }
   ],
   "source": [
    "# Exercise: please finish the karate club graph by adding the remaining edges. We have provided you all the\n",
    "# remaining edge tuples in a list.\n",
    "\n",
    "edge_list = [(7, 0), (7, 1), (7, 2), (7, 3), (8, 0), (8, 2), (9, 2), (10, 0), (10, 4), (10, 5),\n",
    "             (11, 0), (12, 0), (12, 3), (13, 0), (13, 1), (13, 2), (13, 3), (16, 5), (16, 6),\n",
    "             (17, 0), (17, 1), (19, 0), (19, 1), (21, 0), (21, 1), (25, 23), (25, 24), (27, 2),\n",
    "             (27, 23), (27, 24), (28, 2), (29, 23), (29, 26), (30, 1), (30, 8), (31, 0), (31, 24),\n",
    "             (31, 25), (31, 28), (32, 2), (32, 8), (32, 14), (32, 15), (32, 18), (32, 20), (32, 22),\n",
    "             (32, 23), (32, 29), (32, 30), (32, 31), (33, 8), (33, 9), (33, 13), (33, 14), (33, 15),\n",
    "             (33, 18), (33, 19), (33, 20), (33, 22), (33, 23), (33, 26), (33, 27), (33, 28),\n",
    "             (33, 29), (33, 30), (33, 31), (33, 32)]\n",
    "\n",
    "# >>> YOUR CODE STARTS\n",
    "src, dst = [], []\n",
    "for edge in edge_list:\n",
    "    src.append(edge[0])\n",
    "    dst.append(edge[1]) \n",
    "G.add_edges(src, dst)\n",
    "# <<< YOUR CODE ENDS\n",
    "\n",
    "# We should have 78 edges now!\n",
    "print('Now we have %d edges!' % G.number_of_edges())"
   ]
  },
  {
   "cell_type": "markdown",
   "metadata": {},
   "source": [
    "Manipulating node/edge features\n",
    "---------------------------------------------------------\n",
    "\n",
    "Nodes and edges in `DGLGraph` can have **features** tensors. Features of multiple nodes/edges are batched on the first dimension. Let's start by assigning a random feature vector of length 5 to all nodes."
   ]
  },
  {
   "cell_type": "code",
   "execution_count": 9,
   "metadata": {},
   "outputs": [],
   "source": [
    "G.ndata['feat'] = torch.randn((34, 5))"
   ]
  },
  {
   "cell_type": "markdown",
   "metadata": {},
   "source": [
    "Now each node has a feature vector `'feat'` that has 5 elements. Note since there are 34 nodes in this graph, the first dimension must be of size 34, so that each row corresponds to the feature vector of each node. Error will be raised if the dimension mismatches:"
   ]
  },
  {
   "cell_type": "code",
   "execution_count": 10,
   "metadata": {},
   "outputs": [
    {
     "ename": "DGLError",
     "evalue": "Expect number of features to match number of nodes (len(u)). Got 35 and 34 instead.",
     "output_type": "error",
     "traceback": [
      "\u001b[0;31m---------------------------------------------------------------------------\u001b[0m",
      "\u001b[0;31mDGLError\u001b[0m                                  Traceback (most recent call last)",
      "\u001b[0;32m<ipython-input-10-8aa92b5ab661>\u001b[0m in \u001b[0;36m<module>\u001b[0;34m\u001b[0m\n\u001b[1;32m      1\u001b[0m \u001b[0;31m# This will raise error!!\u001b[0m\u001b[0;34m\u001b[0m\u001b[0;34m\u001b[0m\u001b[0;34m\u001b[0m\u001b[0m\n\u001b[0;32m----> 2\u001b[0;31m \u001b[0mG\u001b[0m\u001b[0;34m.\u001b[0m\u001b[0mndata\u001b[0m\u001b[0;34m[\u001b[0m\u001b[0;34m'wrong_feat'\u001b[0m\u001b[0;34m]\u001b[0m \u001b[0;34m=\u001b[0m \u001b[0mtorch\u001b[0m\u001b[0;34m.\u001b[0m\u001b[0mrandn\u001b[0m\u001b[0;34m(\u001b[0m\u001b[0;34m(\u001b[0m\u001b[0;36m35\u001b[0m\u001b[0;34m,\u001b[0m \u001b[0;36m5\u001b[0m\u001b[0;34m)\u001b[0m\u001b[0;34m)\u001b[0m\u001b[0;34m\u001b[0m\u001b[0;34m\u001b[0m\u001b[0m\n\u001b[0m",
      "\u001b[0;32m~/miniconda3/envs/ds/lib/python3.7/site-packages/dgl/view.py\u001b[0m in \u001b[0;36m__setitem__\u001b[0;34m(self, key, val)\u001b[0m\n\u001b[1;32m     58\u001b[0m \u001b[0;34m\u001b[0m\u001b[0m\n\u001b[1;32m     59\u001b[0m     \u001b[0;32mdef\u001b[0m \u001b[0m__setitem__\u001b[0m\u001b[0;34m(\u001b[0m\u001b[0mself\u001b[0m\u001b[0;34m,\u001b[0m \u001b[0mkey\u001b[0m\u001b[0;34m,\u001b[0m \u001b[0mval\u001b[0m\u001b[0;34m)\u001b[0m\u001b[0;34m:\u001b[0m\u001b[0;34m\u001b[0m\u001b[0;34m\u001b[0m\u001b[0m\n\u001b[0;32m---> 60\u001b[0;31m         \u001b[0mself\u001b[0m\u001b[0;34m.\u001b[0m\u001b[0m_graph\u001b[0m\u001b[0;34m.\u001b[0m\u001b[0mset_n_repr\u001b[0m\u001b[0;34m(\u001b[0m\u001b[0;34m{\u001b[0m\u001b[0mkey\u001b[0m \u001b[0;34m:\u001b[0m \u001b[0mval\u001b[0m\u001b[0;34m}\u001b[0m\u001b[0;34m,\u001b[0m \u001b[0mself\u001b[0m\u001b[0;34m.\u001b[0m\u001b[0m_nodes\u001b[0m\u001b[0;34m)\u001b[0m\u001b[0;34m\u001b[0m\u001b[0;34m\u001b[0m\u001b[0m\n\u001b[0m\u001b[1;32m     61\u001b[0m \u001b[0;34m\u001b[0m\u001b[0m\n\u001b[1;32m     62\u001b[0m     \u001b[0;32mdef\u001b[0m \u001b[0m__delitem__\u001b[0m\u001b[0;34m(\u001b[0m\u001b[0mself\u001b[0m\u001b[0;34m,\u001b[0m \u001b[0mkey\u001b[0m\u001b[0;34m)\u001b[0m\u001b[0;34m:\u001b[0m\u001b[0;34m\u001b[0m\u001b[0;34m\u001b[0m\u001b[0m\n",
      "\u001b[0;32m~/miniconda3/envs/ds/lib/python3.7/site-packages/dgl/graph.py\u001b[0m in \u001b[0;36mset_n_repr\u001b[0;34m(self, data, u, inplace)\u001b[0m\n\u001b[1;32m   1585\u001b[0m             \u001b[0;32mif\u001b[0m \u001b[0mnfeats\u001b[0m \u001b[0;34m!=\u001b[0m \u001b[0mnum_nodes\u001b[0m\u001b[0;34m:\u001b[0m\u001b[0;34m\u001b[0m\u001b[0;34m\u001b[0m\u001b[0m\n\u001b[1;32m   1586\u001b[0m                 raise DGLError('Expect number of features to match number of nodes (len(u)).'\n\u001b[0;32m-> 1587\u001b[0;31m                                ' Got %d and %d instead.' % (nfeats, num_nodes))\n\u001b[0m\u001b[1;32m   1588\u001b[0m         \u001b[0;31m# set\u001b[0m\u001b[0;34m\u001b[0m\u001b[0;34m\u001b[0m\u001b[0;34m\u001b[0m\u001b[0m\n\u001b[1;32m   1589\u001b[0m         \u001b[0;32mif\u001b[0m \u001b[0mis_all\u001b[0m\u001b[0;34m(\u001b[0m\u001b[0mu\u001b[0m\u001b[0;34m)\u001b[0m\u001b[0;34m:\u001b[0m\u001b[0;34m\u001b[0m\u001b[0;34m\u001b[0m\u001b[0m\n",
      "\u001b[0;31mDGLError\u001b[0m: Expect number of features to match number of nodes (len(u)). Got 35 and 34 instead."
     ]
    }
   ],
   "source": [
    "# This will raise error!!\n",
    "G.ndata['wrong_feat'] = torch.randn((35, 5))"
   ]
  },
  {
   "cell_type": "markdown",
   "metadata": {},
   "source": [
    "The `G.ndata` is a dictionary-like structure, so it is compatible with any operation on dictionary."
   ]
  },
  {
   "cell_type": "code",
   "execution_count": 11,
   "metadata": {},
   "outputs": [
    {
     "name": "stdout",
     "output_type": "stream",
     "text": [
      "{'feat': tensor([[ 2.3332e-01, -1.0035e-01, -4.1504e-01,  1.4558e+00, -2.6827e+00],\n",
      "        [ 1.8231e-01, -1.3371e-01,  3.9542e-01, -5.7070e-01, -3.1217e-01],\n",
      "        [ 8.2983e-01, -8.1458e-03,  5.8997e-01,  1.3136e+00, -3.0299e-01],\n",
      "        [-5.3499e-01,  4.7559e-02, -1.2680e+00,  1.2792e-01,  1.6119e-01],\n",
      "        [-7.8719e-02, -1.2351e+00, -5.0030e-02, -1.2439e+00,  4.4286e-01],\n",
      "        [ 1.5499e+00,  2.0018e-01,  6.4173e-01,  5.8446e-01,  5.2903e-01],\n",
      "        [-7.6309e-01,  9.9267e-01, -1.1328e+00, -2.4366e-01,  1.7406e-01],\n",
      "        [ 5.9102e-01, -2.5117e-02,  1.2031e+00,  1.2212e+00, -1.2203e+00],\n",
      "        [ 1.2748e+00,  2.4481e-01,  1.5200e+00, -5.2756e-01,  7.5824e-01],\n",
      "        [ 1.7327e+00,  7.8290e-02, -1.4734e+00,  8.6586e-01,  2.5237e-01],\n",
      "        [-9.6980e-02,  1.2405e+00,  5.3351e-01,  5.3782e-02, -1.0017e+00],\n",
      "        [ 5.1013e-01,  6.5147e-01, -2.8352e-01,  1.2659e-01, -1.9465e-01],\n",
      "        [-6.5036e-02,  3.5325e-01,  2.3813e+00,  3.7117e-01, -5.4881e-01],\n",
      "        [-6.2291e-01,  1.0261e+00, -3.1862e-01, -1.2020e-01, -4.1826e-01],\n",
      "        [ 1.8960e-01, -2.3770e+00, -2.0543e-01,  1.9408e+00,  7.2722e-01],\n",
      "        [-1.2261e+00, -8.7427e-01,  5.2344e-02,  4.1462e-01,  1.3797e-01],\n",
      "        [-1.0113e+00, -2.6986e-01, -7.5637e-01, -2.4656e-01,  2.6058e-01],\n",
      "        [ 9.8932e-02,  2.2039e-01, -1.0312e+00, -4.1213e-01,  5.0860e-01],\n",
      "        [-1.7922e-01, -4.2850e-01,  2.4792e-01,  2.9096e-01,  1.4776e-01],\n",
      "        [-1.5851e+00, -1.7527e+00,  1.0119e+00, -3.3395e-01, -1.1224e+00],\n",
      "        [-4.9204e-02, -1.4560e-01, -1.0242e+00,  1.0058e+00,  9.3725e-01],\n",
      "        [-1.4930e+00, -7.5278e-01,  4.6036e-01,  1.4262e-01, -5.0325e-01],\n",
      "        [-1.9490e+00, -6.3578e-04, -7.8511e-01,  2.9375e-01,  2.4048e-01],\n",
      "        [-4.4340e-02, -2.5641e-01,  9.4767e-01, -1.2336e+00,  6.4214e-01],\n",
      "        [-1.5769e-01, -1.8019e+00,  1.4097e+00, -3.9169e-01, -1.2558e+00],\n",
      "        [-2.7438e-01, -5.8646e-01, -5.2915e-01, -3.9284e-01,  6.8184e-01],\n",
      "        [ 1.1211e-01,  3.2627e-01,  6.7900e-01, -8.2526e-01,  3.1878e-01],\n",
      "        [-9.6835e-02,  4.6515e-03, -4.8024e-01,  4.5974e-01,  5.8982e-01],\n",
      "        [-3.0281e-01, -1.3328e-01, -1.4528e-01, -1.0022e+00,  1.0301e+00],\n",
      "        [-1.5036e+00,  1.6658e-01, -1.3460e-01,  5.6653e-01, -2.3028e-01],\n",
      "        [-6.9253e-01,  6.7260e-01, -3.7346e-01, -6.8142e-01, -2.5369e-01],\n",
      "        [-1.1159e+00, -1.0480e+00,  4.5345e-01,  1.2226e+00, -8.0810e-02],\n",
      "        [-4.1200e-01,  1.7382e+00,  9.9558e-01, -6.3932e-01, -1.2051e+00],\n",
      "        [ 2.4323e-01, -1.5054e-01,  2.5070e-01, -1.8729e-01,  1.9373e-01]]), 'another_feat': tensor([[-1.2521,  1.3724,  0.2794],\n",
      "        [ 1.1787,  0.9644,  0.2220],\n",
      "        [ 0.3907,  0.3037,  0.9076],\n",
      "        [ 1.4880, -0.2950,  0.6710],\n",
      "        [ 0.4060,  0.6824, -0.9988],\n",
      "        [ 0.7120, -0.5023, -0.2040],\n",
      "        [-0.4162, -0.4957,  0.9620],\n",
      "        [ 1.6955, -0.0422,  0.4221],\n",
      "        [-0.7999, -0.6350,  1.0791],\n",
      "        [-1.1050,  0.4889, -0.7737],\n",
      "        [ 2.5395,  0.3825,  0.8944],\n",
      "        [-1.2996, -1.1596,  0.2047],\n",
      "        [ 1.8444, -1.4946,  0.4931],\n",
      "        [-0.9379, -0.3652,  1.0037],\n",
      "        [-1.4550, -0.1688,  0.4134],\n",
      "        [-0.6114, -0.5547,  1.2629],\n",
      "        [-0.5437,  1.0634, -0.0189],\n",
      "        [-1.6850, -0.0144, -0.7817],\n",
      "        [ 0.1690,  0.8591,  1.4010],\n",
      "        [ 0.7272, -0.6738, -0.1946],\n",
      "        [-1.0178,  0.4127,  0.9394],\n",
      "        [-1.1290, -1.2488,  0.6854],\n",
      "        [ 0.8623,  0.0468,  1.6126],\n",
      "        [-2.7204,  1.5763,  2.4068],\n",
      "        [ 0.0824, -0.4213, -0.8123],\n",
      "        [-0.8718,  0.4020,  0.1914],\n",
      "        [-0.0325, -0.2603, -0.8176],\n",
      "        [ 0.4899, -1.4393,  0.8464],\n",
      "        [-0.2237,  1.1081, -0.1829],\n",
      "        [ 0.0783, -1.6577, -0.0164],\n",
      "        [-0.6958, -0.2782, -1.3587],\n",
      "        [-0.4719,  0.1300,  0.2900],\n",
      "        [-1.8821,  0.1900, -0.8262],\n",
      "        [ 0.9746,  0.8027, -0.6267]])}\n"
     ]
    },
    {
     "data": {
      "text/plain": [
       "tensor([[-1.2521,  1.3724,  0.2794],\n",
       "        [ 1.1787,  0.9644,  0.2220],\n",
       "        [ 0.3907,  0.3037,  0.9076],\n",
       "        [ 1.4880, -0.2950,  0.6710],\n",
       "        [ 0.4060,  0.6824, -0.9988],\n",
       "        [ 0.7120, -0.5023, -0.2040],\n",
       "        [-0.4162, -0.4957,  0.9620],\n",
       "        [ 1.6955, -0.0422,  0.4221],\n",
       "        [-0.7999, -0.6350,  1.0791],\n",
       "        [-1.1050,  0.4889, -0.7737],\n",
       "        [ 2.5395,  0.3825,  0.8944],\n",
       "        [-1.2996, -1.1596,  0.2047],\n",
       "        [ 1.8444, -1.4946,  0.4931],\n",
       "        [-0.9379, -0.3652,  1.0037],\n",
       "        [-1.4550, -0.1688,  0.4134],\n",
       "        [-0.6114, -0.5547,  1.2629],\n",
       "        [-0.5437,  1.0634, -0.0189],\n",
       "        [-1.6850, -0.0144, -0.7817],\n",
       "        [ 0.1690,  0.8591,  1.4010],\n",
       "        [ 0.7272, -0.6738, -0.1946],\n",
       "        [-1.0178,  0.4127,  0.9394],\n",
       "        [-1.1290, -1.2488,  0.6854],\n",
       "        [ 0.8623,  0.0468,  1.6126],\n",
       "        [-2.7204,  1.5763,  2.4068],\n",
       "        [ 0.0824, -0.4213, -0.8123],\n",
       "        [-0.8718,  0.4020,  0.1914],\n",
       "        [-0.0325, -0.2603, -0.8176],\n",
       "        [ 0.4899, -1.4393,  0.8464],\n",
       "        [-0.2237,  1.1081, -0.1829],\n",
       "        [ 0.0783, -1.6577, -0.0164],\n",
       "        [-0.6958, -0.2782, -1.3587],\n",
       "        [-0.4719,  0.1300,  0.2900],\n",
       "        [-1.8821,  0.1900, -0.8262],\n",
       "        [ 0.9746,  0.8027, -0.6267]])"
      ]
     },
     "execution_count": 11,
     "metadata": {},
     "output_type": "execute_result"
    }
   ],
   "source": [
    "# Use `dict.update` to add new features (vector of length 3)\n",
    "G.ndata.update({'another_feat' : torch.randn((34, 3))})\n",
    "\n",
    "# Print the feature dictionary\n",
    "print(G.ndata)\n",
    "\n",
    "# Delete the new feature using `dict.pop`\n",
    "G.ndata.pop('another_feat')"
   ]
  },
  {
   "cell_type": "markdown",
   "metadata": {},
   "source": [
    "Sometimes, you might want to update features of some but not all of the nodes. This can be done using the following syntax:"
   ]
  },
  {
   "cell_type": "code",
   "execution_count": 12,
   "metadata": {},
   "outputs": [],
   "source": [
    "# Set node 0's feat to be all-zeros vector. Please be aware of the extra size 1 dimension here.\n",
    "G.nodes[0].data['feat'] = torch.zeros((1, 5))\n",
    "\n",
    "# Set node 2, 3's feat to be all-ones vector at once using list type.\n",
    "G.nodes[[2, 3]].data['feat'] = torch.ones((2, 5))\n",
    "\n",
    "# Set node 10, 11, 12's feat to be all-twos vector at once using tensor type.\n",
    "to_change = torch.tensor([10, 11, 12])\n",
    "G.nodes[to_change].data['feat'] = torch.ones((3, 5)) * 2"
   ]
  },
  {
   "cell_type": "code",
   "execution_count": 13,
   "metadata": {},
   "outputs": [
    {
     "name": "stdout",
     "output_type": "stream",
     "text": [
      "{'feat': tensor([[ 0.0000e+00,  0.0000e+00,  0.0000e+00,  0.0000e+00,  0.0000e+00],\n",
      "        [ 1.8231e-01, -1.3371e-01,  3.9542e-01, -5.7070e-01, -3.1217e-01],\n",
      "        [ 1.0000e+00,  1.0000e+00,  1.0000e+00,  1.0000e+00,  1.0000e+00],\n",
      "        [ 1.0000e+00,  1.0000e+00,  1.0000e+00,  1.0000e+00,  1.0000e+00],\n",
      "        [-7.8719e-02, -1.2351e+00, -5.0030e-02, -1.2439e+00,  4.4286e-01],\n",
      "        [ 1.5499e+00,  2.0018e-01,  6.4173e-01,  5.8446e-01,  5.2903e-01],\n",
      "        [-7.6309e-01,  9.9267e-01, -1.1328e+00, -2.4366e-01,  1.7406e-01],\n",
      "        [ 5.9102e-01, -2.5117e-02,  1.2031e+00,  1.2212e+00, -1.2203e+00],\n",
      "        [ 1.2748e+00,  2.4481e-01,  1.5200e+00, -5.2756e-01,  7.5824e-01],\n",
      "        [ 1.7327e+00,  7.8290e-02, -1.4734e+00,  8.6586e-01,  2.5237e-01],\n",
      "        [ 2.0000e+00,  2.0000e+00,  2.0000e+00,  2.0000e+00,  2.0000e+00],\n",
      "        [ 2.0000e+00,  2.0000e+00,  2.0000e+00,  2.0000e+00,  2.0000e+00],\n",
      "        [ 2.0000e+00,  2.0000e+00,  2.0000e+00,  2.0000e+00,  2.0000e+00],\n",
      "        [-6.2291e-01,  1.0261e+00, -3.1862e-01, -1.2020e-01, -4.1826e-01],\n",
      "        [ 1.8960e-01, -2.3770e+00, -2.0543e-01,  1.9408e+00,  7.2722e-01],\n",
      "        [-1.2261e+00, -8.7427e-01,  5.2344e-02,  4.1462e-01,  1.3797e-01],\n",
      "        [-1.0113e+00, -2.6986e-01, -7.5637e-01, -2.4656e-01,  2.6058e-01],\n",
      "        [ 9.8932e-02,  2.2039e-01, -1.0312e+00, -4.1213e-01,  5.0860e-01],\n",
      "        [-1.7922e-01, -4.2850e-01,  2.4792e-01,  2.9096e-01,  1.4776e-01],\n",
      "        [-1.5851e+00, -1.7527e+00,  1.0119e+00, -3.3395e-01, -1.1224e+00],\n",
      "        [-4.9204e-02, -1.4560e-01, -1.0242e+00,  1.0058e+00,  9.3725e-01],\n",
      "        [-1.4930e+00, -7.5278e-01,  4.6036e-01,  1.4262e-01, -5.0325e-01],\n",
      "        [-1.9490e+00, -6.3578e-04, -7.8511e-01,  2.9375e-01,  2.4048e-01],\n",
      "        [-4.4340e-02, -2.5641e-01,  9.4767e-01, -1.2336e+00,  6.4214e-01],\n",
      "        [-1.5769e-01, -1.8019e+00,  1.4097e+00, -3.9169e-01, -1.2558e+00],\n",
      "        [-2.7438e-01, -5.8646e-01, -5.2915e-01, -3.9284e-01,  6.8184e-01],\n",
      "        [ 1.1211e-01,  3.2627e-01,  6.7900e-01, -8.2526e-01,  3.1878e-01],\n",
      "        [-9.6835e-02,  4.6515e-03, -4.8024e-01,  4.5974e-01,  5.8982e-01],\n",
      "        [-3.0281e-01, -1.3328e-01, -1.4528e-01, -1.0022e+00,  1.0301e+00],\n",
      "        [-1.5036e+00,  1.6658e-01, -1.3460e-01,  5.6653e-01, -2.3028e-01],\n",
      "        [-6.9253e-01,  6.7260e-01, -3.7346e-01, -6.8142e-01, -2.5369e-01],\n",
      "        [-1.1159e+00, -1.0480e+00,  4.5345e-01,  1.2226e+00, -8.0810e-02],\n",
      "        [-4.1200e-01,  1.7382e+00,  9.9558e-01, -6.3932e-01, -1.2051e+00],\n",
      "        [ 2.4323e-01, -1.5054e-01,  2.5070e-01, -1.8729e-01,  1.9373e-01]])}\n"
     ]
    }
   ],
   "source": [
    "# Print the feature dictionary\n",
    "print(G.ndata)"
   ]
  },
  {
   "cell_type": "markdown",
   "metadata": {},
   "source": [
    "Similar to `G.ndata` and `G.nodes`, we have `G.edata` and `G.edges` to access and modify edge features:"
   ]
  },
  {
   "cell_type": "code",
   "execution_count": 14,
   "metadata": {},
   "outputs": [
    {
     "name": "stdout",
     "output_type": "stream",
     "text": [
      "{'broness': tensor([0.5000, 0.5000, 1.0000, 0.5000, 1.0000, 1.0000, 0.5000, 0.5000, 0.5000,\n",
      "        1.0000, 1.0000, 0.5000, 1.0000, 1.0000, 1.0000, 0.5000, 1.0000, 1.0000,\n",
      "        0.5000, 1.0000, 1.0000, 0.5000, 0.5000, 1.0000, 0.5000, 1.0000, 1.0000,\n",
      "        1.0000, 1.0000, 1.0000, 0.5000, 1.0000, 0.5000, 1.0000, 0.5000, 1.0000,\n",
      "        1.0000, 1.0000, 1.0000, 1.0000, 1.0000, 1.0000, 1.0000, 1.0000, 1.0000,\n",
      "        1.0000, 0.5000, 1.0000, 1.0000, 1.0000, 1.0000, 1.0000, 1.0000, 1.0000,\n",
      "        1.0000, 1.0000, 1.0000, 1.0000, 1.0000, 1.0000, 1.0000, 1.0000, 1.0000,\n",
      "        1.0000, 1.0000, 1.0000, 1.0000, 1.0000, 1.0000, 1.0000, 1.0000, 1.0000,\n",
      "        1.0000, 1.0000, 1.0000, 1.0000, 1.0000, 1.0000])}\n"
     ]
    }
   ],
   "source": [
    "# The broness edge feature is just a scalar.\n",
    "G.edata['broness'] = torch.ones((G.number_of_edges(),))\n",
    "\n",
    "# The instructor (node 0) is a tough guy, so his friends are a little bit scared of him.\n",
    "G.edges[G.predecessors(0), 0].data['broness'] *= 0.5\n",
    "\n",
    "print(G.edata)"
   ]
  },
  {
   "cell_type": "code",
   "execution_count": 15,
   "metadata": {},
   "outputs": [
    {
     "name": "stdout",
     "output_type": "stream",
     "text": [
      "tensor([ 0.5700,  0.2474,  1.0279,  1.3383,  0.7024,  0.9783, -0.0583,  0.1227,\n",
      "         1.4124,  1.6931,  0.4506,  0.7817,  1.7034,  1.4562,  2.0995,  2.9771,\n",
      "         0.7628,  1.2248,  0.9483,  0.3909,  0.5625,  0.5149, -0.3310,  2.3653,\n",
      "         1.0948,  0.4690,  2.0007,  2.4956,  1.3753,  0.4548,  3.8960,  1.0648,\n",
      "         1.1822,  1.4494,  0.9059,  2.1531,  1.0841,  0.7119,  0.9003, -0.0289,\n",
      "         0.6917,  1.0599,  2.6733, -0.6791,  0.8997,  1.2639,  0.9668,  1.6487,\n",
      "         1.1514,  2.0106, -0.5015, -0.3952,  1.9192, -0.4011,  1.2004,  0.9634,\n",
      "         4.8334,  0.6972,  2.4843,  0.7833,  0.1764,  3.3373,  1.3703, -0.4906,\n",
      "         0.8432,  2.0474,  2.4506,  2.0565,  1.5535,  1.9139, -1.9474, -0.7935,\n",
      "         1.1582,  0.3328,  0.9263,  0.3746, -0.2375,  2.0368])\n"
     ]
    }
   ],
   "source": [
    "# Exercise: We know that measuring bro-ness cannot be accurate. Could you add some small random noise to it?\n",
    "# Hint: Use `torch.randn` to add small permutation to it.\n",
    "#\n",
    "# >>> YOUR CODE STARTS\n",
    "G.edata.update({'broness': G.edata['broness']+torch.randn((G.number_of_edges(), ))})\n",
    "# <<< YOUR CODE ENDS\n",
    "\n",
    "# You should see some randomness here\n",
    "print(G.edata['broness'])"
   ]
  }
 ],
 "metadata": {
  "kernelspec": {
   "display_name": "Python 3",
   "language": "python",
   "name": "python3"
  },
  "language_info": {
   "codemirror_mode": {
    "name": "ipython",
    "version": 3
   },
   "file_extension": ".py",
   "mimetype": "text/x-python",
   "name": "python",
   "nbconvert_exporter": "python",
   "pygments_lexer": "ipython3",
   "version": "3.7.3"
  }
 },
 "nbformat": 4,
 "nbformat_minor": 2
}
